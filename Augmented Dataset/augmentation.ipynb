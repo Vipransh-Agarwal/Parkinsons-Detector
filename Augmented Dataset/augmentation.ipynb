{
 "cells": [
  {
   "cell_type": "code",
   "execution_count": 1,
   "metadata": {},
   "outputs": [],
   "source": [
    "import numpy as np\n",
    "import os\n",
    "from keras.preprocessing.image import ImageDataGenerator\n",
    "from skimage import io"
   ]
  },
  {
   "cell_type": "code",
   "execution_count": 16,
   "metadata": {},
   "outputs": [
    {
     "name": "stdout",
     "output_type": "stream",
     "text": [
      "28\n"
     ]
    }
   ],
   "source": [
    "parkinsons_images = '../Raw Dataset/Training/parkinson/'\n",
    "parkinson_dataset = []\n",
    "\n",
    "images_list = os.listdir(parkinsons_images)\n",
    "for i, name in enumerate(images_list):\n",
    "  if(name.split('.')[1] == 'png'):\n",
    "    image = io.imread(parkinsons_images + name)\n",
    "    parkinson_dataset.append(np.array(image))\n",
    "\n",
    "print(len(parkinson_dataset))"
   ]
  },
  {
   "cell_type": "code",
   "execution_count": 12,
   "metadata": {},
   "outputs": [
    {
     "name": "stdout",
     "output_type": "stream",
     "text": [
      "28\n"
     ]
    }
   ],
   "source": [
    "healthy_images = '../Raw Dataset/Training/healthy/'\n",
    "healthy_dataset = []\n",
    "\n",
    "images_list = os.listdir(healthy_images)\n",
    "for i, name in enumerate(images_list):\n",
    "  if(name.split('.')[1] == 'png'):\n",
    "    image = io.imread(healthy_images + name)\n",
    "    healthy_dataset.append(np.array(image))\n",
    "print(len(healthy_dataset))"
   ]
  },
  {
   "cell_type": "code",
   "execution_count": 17,
   "metadata": {},
   "outputs": [],
   "source": [
    "aug_img_gen = ImageDataGenerator(\n",
    "                                rotation_range=360,\n",
    "                                width_shift_range=0.0,\n",
    "                                height_shift_range=0.0,\n",
    "                                horizontal_flip=True,\n",
    "                                vertical_flip=True\n",
    "                                )"
   ]
  },
  {
   "cell_type": "code",
   "execution_count": 18,
   "metadata": {},
   "outputs": [],
   "source": [
    "parkinson_dataset_array = np.array(parkinson_dataset)\n",
    "\n",
    "for batch in aug_img_gen.flow(\n",
    "                              parkinson_dataset_array,\n",
    "                              save_to_dir='./Training/parkinson/',\n",
    "                              save_prefix='aug',\n",
    "                              save_format='png',\n",
    "                              shuffle=True\n",
    "                              ):\n",
    "  i += 1\n",
    "  if i > 159:\n",
    "    break"
   ]
  },
  {
   "cell_type": "code",
   "execution_count": 14,
   "metadata": {},
   "outputs": [],
   "source": [
    "healthy_dataset_array = np.array(healthy_dataset)\n",
    "for batch in aug_img_gen.flow(\n",
    "                              healthy_dataset_array,\n",
    "                              save_to_dir='./Training/healthy/',\n",
    "                              save_prefix='aug',\n",
    "                              save_format='png'\n",
    "                              ):\n",
    "  i += 1\n",
    "  if i > 159:\n",
    "    break"
   ]
  },
  {
   "cell_type": "code",
   "execution_count": 30,
   "metadata": {},
   "outputs": [],
   "source": [
    "parkinsons_images = '../Raw Dataset/Testing/parkinson/'\n",
    "parkinson_test_dataset = []\n",
    "\n",
    "images_list = os.listdir(parkinsons_images)\n",
    "for i, name in enumerate(images_list):\n",
    "  if(name.split('.')[1] == 'png'):\n",
    "    image = io.imread(parkinsons_images + name)\n",
    "    parkinson_test_dataset.append(np.array(image))"
   ]
  },
  {
   "cell_type": "code",
   "execution_count": 36,
   "metadata": {},
   "outputs": [],
   "source": [
    "healthy_images = '../Raw Dataset/Testing/healthy/'\n",
    "healthy_test_dataset = []\n",
    "\n",
    "images_list = os.listdir(healthy_images)\n",
    "for i, name in enumerate(images_list):\n",
    "  if(name.split('.')[1] == 'png'):\n",
    "    image = io.imread(healthy_images + name)\n",
    "    healthy_test_dataset.append(np.array(image))"
   ]
  },
  {
   "cell_type": "code",
   "execution_count": 33,
   "metadata": {},
   "outputs": [],
   "source": [
    "parkinson_test_array = np.array(parkinson_test_dataset)\n",
    "\n",
    "for batch in aug_img_gen.flow(parkinson_test_array,\n",
    "                          save_to_dir='./Testing/parkinson/',\n",
    "                          save_prefix='aug',\n",
    "                          save_format='png'):\n",
    "  i += 1\n",
    "  if i > 59:\n",
    "    break"
   ]
  },
  {
   "cell_type": "code",
   "execution_count": 37,
   "metadata": {},
   "outputs": [],
   "source": [
    "healthy_test_array = np.array(healthy_test_dataset)\n",
    "for batch in aug_img_gen.flow(healthy_test_array,\n",
    "                          save_to_dir='./Testing/healthy/',\n",
    "                          save_prefix='aug',\n",
    "                          save_format='png'):\n",
    "  i += 1\n",
    "  if i > 59:\n",
    "    break"
   ]
  }
 ],
 "metadata": {
  "interpreter": {
   "hash": "853f5f8889faabd846238bb9459524c40d5f146fd3219e68736e74215636ddfa"
  },
  "kernelspec": {
   "display_name": "Python 3.8.8 64-bit ('base': conda)",
   "language": "python",
   "name": "python3"
  },
  "language_info": {
   "codemirror_mode": {
    "name": "ipython",
    "version": 3
   },
   "file_extension": ".py",
   "mimetype": "text/x-python",
   "name": "python",
   "nbconvert_exporter": "python",
   "pygments_lexer": "ipython3",
   "version": "3.8.8"
  },
  "orig_nbformat": 4
 },
 "nbformat": 4,
 "nbformat_minor": 2
}
