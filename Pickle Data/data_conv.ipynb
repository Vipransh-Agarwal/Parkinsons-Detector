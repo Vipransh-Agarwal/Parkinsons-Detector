{
 "cells": [
  {
   "cell_type": "code",
   "execution_count": 1,
   "metadata": {},
   "outputs": [],
   "source": [
    "import os\n",
    "import cv2\n",
    "import numpy as np\n",
    "import pickle"
   ]
  },
  {
   "cell_type": "code",
   "execution_count": 7,
   "metadata": {},
   "outputs": [],
   "source": [
    "dir = '../Augmented Dataset/Training/'\n",
    "\n",
    "categories = ['healthy', 'parkinson']\n",
    "\n",
    "data = []\n",
    "\n",
    "for category in categories:\n",
    "  path = os.path.join(dir, category)\n",
    "  label = categories.index(category)\n",
    "  for image in os.listdir(path):\n",
    "    image_path = os.path.join(path, image)\n",
    "    image = cv2.imread(image_path)\n",
    "    image = cv2.resize(image, (128, 128))\n",
    "    image = cv2.cvtColor(image, cv2.COLOR_BGR2GRAY)\n",
    "    image_arr = np.array(image)\n",
    "    data.append([image_arr, label])"
   ]
  },
  {
   "cell_type": "code",
   "execution_count": 13,
   "metadata": {},
   "outputs": [
    {
     "name": "stdout",
     "output_type": "stream",
     "text": [
      "7390\n"
     ]
    }
   ],
   "source": [
    "data_arr = np.array(data, dtype=object)\n",
    "print(len(data_arr))"
   ]
  },
  {
   "cell_type": "code",
   "execution_count": 11,
   "metadata": {},
   "outputs": [],
   "source": [
    "test_dir = '../Augmented Dataset/Testing/'\n",
    "\n",
    "categories = ['healthy', 'parkinson']\n",
    "\n",
    "test_data = []\n",
    "\n",
    "for category in categories:\n",
    "  path = os.path.join(test_dir, category)\n",
    "  label = categories.index(category)\n",
    "  for image in os.listdir(path):\n",
    "    image_path = os.path.join(path, image)\n",
    "    image = cv2.imread(image_path)\n",
    "    image = cv2.resize(image, (128, 128))\n",
    "    image = cv2.cvtColor(image, cv2.COLOR_BGR2GRAY)\n",
    "    image_arr = np.array(image)\n",
    "    test_data.append([image_arr, label])"
   ]
  },
  {
   "cell_type": "code",
   "execution_count": 14,
   "metadata": {},
   "outputs": [
    {
     "name": "stdout",
     "output_type": "stream",
     "text": [
      "1378\n"
     ]
    }
   ],
   "source": [
    "test_data_arr = np.array(test_data, dtype=object)\n",
    "print(len(test_data_arr))"
   ]
  },
  {
   "cell_type": "code",
   "execution_count": 15,
   "metadata": {},
   "outputs": [],
   "source": [
    "pick_in = open('./cnn_train_data.pickle', 'wb')\n",
    "pickle.dump(data_arr, pick_in)\n",
    "pick_in.close()"
   ]
  },
  {
   "cell_type": "code",
   "execution_count": 16,
   "metadata": {},
   "outputs": [],
   "source": [
    "pick_in = open('./cnn_test_data.pickle', 'wb')\n",
    "pickle.dump(test_data_arr, pick_in)\n",
    "pick_in.close()"
   ]
  }
 ],
 "metadata": {
  "interpreter": {
   "hash": "853f5f8889faabd846238bb9459524c40d5f146fd3219e68736e74215636ddfa"
  },
  "kernelspec": {
   "display_name": "Python 3.8.8 64-bit ('base': conda)",
   "language": "python",
   "name": "python3"
  },
  "language_info": {
   "codemirror_mode": {
    "name": "ipython",
    "version": 3
   },
   "file_extension": ".py",
   "mimetype": "text/x-python",
   "name": "python",
   "nbconvert_exporter": "python",
   "pygments_lexer": "ipython3",
   "version": "3.8.8"
  },
  "orig_nbformat": 4
 },
 "nbformat": 4,
 "nbformat_minor": 2
}
